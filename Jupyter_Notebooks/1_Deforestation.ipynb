{
 "cells": [
  {
   "cell_type": "markdown",
   "id": "valued-today",
   "metadata": {},
   "source": [
    "##  Deforestation Data\n",
    "\n",
    "### Introduction\n",
    "- This notebook provides the code for analyzing deforestation data in the legal amazon\n",
    "- There are two data files to use:  \n",
    "  - 1_Shapefiles_Amazon \n",
    "  - 2_Yearly_Deforestation(Source: **[TerraBrasilis](http://terrabrasilis.dpi.inpe.br/)**)\n",
    "\n",
    "###  Notebook Outline:\n",
    "- [Set up](#setup) (run this first!)\n",
    "- [Read Shapfiles](#shapefiles) \n",
    "- [Summary Statistics](#summary) \n",
    "- [Figures](#figures) \n",
    "- [Maps](#maps) "
   ]
  },
  {
   "cell_type": "markdown",
   "id": "oriented-monthly",
   "metadata": {},
   "source": [
    "<a id='setup'></a>\n",
    "## Set up"
   ]
  },
  {
   "cell_type": "code",
   "execution_count": 1,
   "id": "warming-swedish",
   "metadata": {},
   "outputs": [],
   "source": [
    "import rasterio\n",
    "from rasterio.plot import show\n",
    "import matplotlib.pyplot as plt\n",
    "import geopandas\n",
    "from rasterio.mask import mask\n",
    "import pandas as pd\n",
    "import numpy as np\n",
    "import json\n",
    "import matplotlib.patches as mpatches\n",
    "import matplotlib.colors\n",
    "from scipy.signal import medfilt2d\n",
    "import pyproj\n",
    "import rasterstats\n",
    "from rasterio.warp import calculate_default_transform, reproject, Resampling\n",
    "import rasterio\n",
    "import rasterstats\n",
    "from rasterio.mask import mask\n",
    "from rasterio.plot import show\n",
    "import plotly.express as px\n"
   ]
  },
  {
   "cell_type": "code",
   "execution_count": 2,
   "id": "registered-thousand",
   "metadata": {},
   "outputs": [],
   "source": [
    "def getFeatures(gdf):\n",
    "    \"\"\"Function to parse features from GeoDataFrame in such a manner that rasterio wants them\"\"\"\n",
    "    import json\n",
    "    return [json.loads(gdf.to_json())['features'][0]['geometry']]"
   ]
  },
  {
   "cell_type": "markdown",
   "id": "exempt-poison",
   "metadata": {},
   "source": [
    "<a id='shapefiles'></a>\n",
    "## 1. Read Shapfiles"
   ]
  },
  {
   "cell_type": "markdown",
   "id": "decent-arthur",
   "metadata": {},
   "source": [
    "- Please download the required datasets from \"Data\" folder.\n",
    "- you will find the exact data files in each of the subfoler."
   ]
  },
  {
   "cell_type": "markdown",
   "id": "oriented-failure",
   "metadata": {},
   "source": [
    "#### 1.1 Read the Legal Amazon shape file"
   ]
  },
  {
   "cell_type": "code",
   "execution_count": 3,
   "id": "regular-convenience",
   "metadata": {
    "scrolled": false
   },
   "outputs": [],
   "source": [
    "amazon = geopandas.read_file(\"amazonia_legal.shp\")\n",
    "## dissolve to states level\n",
    "amazon_state= amazon.dissolve(by=\"NAME_1\",aggfunc=\"sum\")"
   ]
  },
  {
   "cell_type": "code",
   "execution_count": 4,
   "id": "environmental-loading",
   "metadata": {},
   "outputs": [],
   "source": [
    "amazon_state = amazon_state.reset_index('NAME_1')\n",
    "amazon_state.rename(columns = {'NAME_1':'STATE'}, inplace = True)\n",
    "amazon_state.replace('Amazonas','AM',inplace = True )\n",
    "amazon_state.replace('Amapá','AP',inplace = True )\n",
    "amazon_state.replace('Maranhão','MA',inplace = True )\n",
    "amazon_state.replace('Mato Grosso','MT',inplace = True )\n",
    "amazon_state.replace('Pará','PA',inplace = True )\n",
    "amazon_state.replace('Rondônia','RO',inplace = True )\n",
    "amazon_state.replace('Roraima','RR',inplace = True )\n",
    "amazon_state.replace('Tocantins','TO',inplace = True )\n",
    "amazon_state.replace('Acre','AC',inplace = True )\n",
    "amazon_state.replace('Amazonas','AM',inplace = True )\n",
    "amazon_state.replace('Amapá','AP',inplace = True )\n",
    "amazon_state.replace('Maranhão','MA',inplace = True )\n",
    "amazon_state.replace('Mato Grosso','MT',inplace = True )\n",
    "amazon_state.replace('Pará','PA',inplace = True )\n",
    "amazon_state.replace('Rondônia','RO',inplace = True )\n",
    "amazon_state.replace('Roraima','RR',inplace = True )\n",
    "amazon_state.replace('Tocantins','TO',inplace = True )\n",
    "choose = [len(x) == 2 for x in amazon_state['STATE']]\n",
    "amazon_state = amazon_state[choose]"
   ]
  },
  {
   "cell_type": "code",
   "execution_count": 5,
   "id": "hungry-vegetable",
   "metadata": {},
   "outputs": [
    {
     "data": {
      "text/plain": [
       "<AxesSubplot:>"
      ]
     },
     "execution_count": 5,
     "metadata": {},
     "output_type": "execute_result"
    },
    {
     "data": {
      "image/png": "[encoded data removed]",
      "text/plain": [
       "<Figure size 432x288 with 1 Axes>"
      ]
     },
     "metadata": {
      "needs_background": "light"
     },
     "output_type": "display_data"
    }
   ],
   "source": [
    "amazon_state.plot()"
   ]
  },
  {
   "cell_type": "markdown",
   "id": "necessary-region",
   "metadata": {},
   "source": [
    "#### 1.2 Read yearly deforestation shape file"
   ]
  },
  {
   "cell_type": "code",
   "execution_count": 6,
   "id": "arranged-wrist",
   "metadata": {},
   "outputs": [],
   "source": [
    "Def_all =geopandas.read_file(\"yearly_deforestation.shp\")"
   ]
  },
  {
   "cell_type": "code",
   "execution_count": 7,
   "id": "chief-computer",
   "metadata": {},
   "outputs": [
    {
     "data": {
      "text/plain": [
       "False"
      ]
     },
     "execution_count": 7,
     "metadata": {},
     "output_type": "execute_result"
    }
   ],
   "source": [
    "# Projection check\n",
    "amazon_state.crs== Def_all.crs"
   ]
  },
  {
   "cell_type": "code",
   "execution_count": 8,
   "id": "spectacular-money",
   "metadata": {},
   "outputs": [],
   "source": [
    "Def_all= Def_all.to_crs(amazon_state.crs)"
   ]
  },
  {
   "cell_type": "code",
   "execution_count": 9,
   "id": "imperial-collaboration",
   "metadata": {},
   "outputs": [
    {
     "data": {
      "text/plain": [
       "True"
      ]
     },
     "execution_count": 9,
     "metadata": {},
     "output_type": "execute_result"
    }
   ],
   "source": [
    "amazon_state.crs== Def_all.crs"
   ]
  },
  {
   "cell_type": "markdown",
   "id": "spread-notice",
   "metadata": {},
   "source": [
    "<a id='summary'></a>\n",
    "## 2. Summary Statistics"
   ]
  },
  {
   "cell_type": "markdown",
   "id": "boring-accreditation",
   "metadata": {},
   "source": [
    "#### 3.1 Total loss over the years 2018-2019 for each stata"
   ]
  },
  {
   "cell_type": "code",
   "execution_count": 10,
   "id": "synthetic-screw",
   "metadata": {
    "scrolled": false
   },
   "outputs": [
    {
     "data": {
      "text/plain": [
       "STATE\n",
       "AC     3800.752172\n",
       "AM     8826.323631\n",
       "AP      423.046776\n",
       "MA     5275.950700\n",
       "MT    16746.170987\n",
       "PA    35338.186876\n",
       "RO    11169.410230\n",
       "RR     2761.169870\n",
       "TO      607.957687\n",
       "Name: AREA_KM, dtype: float64"
      ]
     },
     "execution_count": 10,
     "metadata": {},
     "output_type": "execute_result"
    }
   ],
   "source": [
    "Def_State_total = Def_all.groupby('STATE').sum().AREA_KM\n",
    "Def_State_total.head(10)"
   ]
  },
  {
   "cell_type": "markdown",
   "id": "closing-softball",
   "metadata": {},
   "source": [
    "#### 3.2 Variations of deforestation aross states and years"
   ]
  },
  {
   "cell_type": "code",
   "execution_count": null,
   "id": "twelve-hampton",
   "metadata": {},
   "outputs": [],
   "source": [
    "# Generate many dataframes of different years\n",
    "# def_2008 - def_2019 \n",
    "for i in Def_all.YEAR.unique():   \n",
    "    i_str = str(i)[:4]\n",
    "    exec('''def_%s = Def_all[Def_all['YEAR'] == i].groupby('STATE').sum().reset_index('STATE')'''%(i_str))\n",
    "    exec('''def_%s = def_%s.rename(columns = {'AREA_KM': 'AREA_KM_%s'})'''%(i_str,i_str,i_str))\n",
    "    exec('''def_%s = def_%s[['STATE','AREA_KM_%s']]'''%(i_str,i_str,i_str))\n"
   ]
  },
  {
   "cell_type": "code",
   "execution_count": null,
   "id": "given-toronto",
   "metadata": {},
   "outputs": [],
   "source": [
    "i = 2008\n",
    "for j in range(2009,2020):\n",
    "    exec('''def_%s = def_%s.merge(def_%s, how = 'left')'''%(i,i,j))"
   ]
  },
  {
   "cell_type": "code",
   "execution_count": null,
   "id": "innovative-swing",
   "metadata": {
    "scrolled": true
   },
   "outputs": [],
   "source": [
    "plt.boxplot([def_2008.AREA_KM_2008,def_2009.AREA_KM_2009,def_2010.AREA_KM_2010, \\\n",
    "             def_2011.AREA_KM_2011,def_2012.AREA_KM_2012,def_2013.AREA_KM_2013,def_2014.AREA_KM_2014, \\\n",
    "             def_2015.AREA_KM_2015,def_2016.AREA_KM_2016,def_2017.AREA_KM_2017,def_2018.AREA_KM_2018,def_2019.AREA_KM_2019])\n",
    "# plt.xlabel(np.arange(2008,2020))\n",
    "plt.xlabel('Year')\n",
    "plt.ylabel('Deforestation Area')\n",
    "plt.xticks([1, 2, 3, 4, 5, 6, 7, 8, 9, 10, 11,12],[r'$2008$', r'$2009$', r'$2010$', r'$2011$', r'$2012$', \\\n",
    "                                                r'$2013$', r'$2014$', r'$2015$', r'$2016$', r'$2017$', r'$2018$', r'$2019$'])"
   ]
  },
  {
   "cell_type": "markdown",
   "id": "elementary-inside",
   "metadata": {},
   "source": [
    "#### 3.3 Prepare state-year datasets to make figure 2"
   ]
  },
  {
   "cell_type": "code",
   "execution_count": null,
   "id": "proud-surgeon",
   "metadata": {
    "scrolled": true
   },
   "outputs": [],
   "source": [
    "Deforestation_state_year = def_2008\n",
    "Deforestation_state_year = Deforestation_state_year.set_index('STATE')\n",
    "Deforestation_state_year_T = pd.DataFrame(Deforestation_state_year.values.T,columns=Deforestation_state_year.index)\n",
    "year = list(range(2008,2020))\n",
    "Deforestation_state_year_T['YEAR'] = year\n",
    "Deforestation_state_year_T"
   ]
  },
  {
   "cell_type": "markdown",
   "id": "smart-necessity",
   "metadata": {},
   "source": [
    "<a id='figures'></a>\n",
    "## 3.  Figures "
   ]
  },
  {
   "cell_type": "markdown",
   "id": "valuable-reservoir",
   "metadata": {},
   "source": [
    "####  Figure 1. Total Defrestation of the Legal Amazon in Each Brazilian State 2008 - 2019"
   ]
  },
  {
   "cell_type": "code",
   "execution_count": null,
   "id": "persistent-package",
   "metadata": {},
   "outputs": [],
   "source": [
    "plt.bar(Def_all.groupby('STATE').sum().index,Def_all.groupby('STATE').sum().AREA_KM)\n",
    "plt.plot(Def_all.groupby('STATE').sum().index,Def_all.groupby('STATE').sum().AREA_KM, 'c.-')\n",
    "plt.xlabel('State')\n",
    "plt.ylabel('Area of Deforestation(KM)')\n",
    "for x, y in zip(Def_all.groupby('STATE').sum().index, Def_all.groupby('STATE').sum().AREA_KM):\n",
    "    plt.text(x, y+0.3, '%.0f'%y, ha='center', va='bottom', fontsize=10.5)\n",
    "plt.title('Total Defrestation of the Legal Amazon in Each Brazilian State 2008 - 2019')\n",
    "ax=plt.gca()\n",
    "plt.ylim(0,40000)\n",
    "plt.savefig(\"Figure 1 Total Defrestation of the Legal Amazon in Each Brazilian State 2008 - 2019.png\")\n"
   ]
  },
  {
   "cell_type": "markdown",
   "id": "european-walter",
   "metadata": {},
   "source": [
    "#### Figure 2. Deforestation of Legal Amazon Area across Brazalian states over years 2008-2019"
   ]
  },
  {
   "cell_type": "code",
   "execution_count": null,
   "id": "lined-dance",
   "metadata": {
    "scrolled": false
   },
   "outputs": [],
   "source": [
    "ac = Deforestation_state_year_T['AC']\n",
    "am = Deforestation_state_year_T['AM']\n",
    "ap = Deforestation_state_year_T['AP']\n",
    "ma = Deforestation_state_year_T['MA']\n",
    "mt = Deforestation_state_year_T['MT']\n",
    "pa = Deforestation_state_year_T['PA']\n",
    "ro = Deforestation_state_year_T['RO']\n",
    "rr = Deforestation_state_year_T['RR']\n",
    "to = Deforestation_state_year_T['TO']\n",
    "year = Deforestation_state_year_T['YEAR']\n",
    "plt.title('Deforestation in Different states over Years')\n",
    "plt.plot(year, ac, color='green', label='AC')\n",
    "plt.plot(year, am, color='DarkKhaki', label='AM')\n",
    "plt.plot(year, ap,  color='skyblue', label='AP')\n",
    "plt.plot(year, ma, color='SteelBlue', label='MA')\n",
    "plt.plot(year, mt, color='Crimson', label='MT')\n",
    "plt.plot(year, pa, color='purple', label='PA')\n",
    "plt.plot(year, ro,  color='LightSalmon', label='RO')\n",
    "plt.plot(year, rr, color='LightSeaGreen', label='RR')\n",
    "plt.plot(year, to, color='gray', label='TO')\n",
    "plt.legend(title = 'State', ncol = 2) \n",
    "plt.xlabel('Years')\n",
    "plt.ylabel('Area of Deforestation(KM)')\n",
    "plt.savefig(\"Figure2 Deforestation of Legal Amazon Area across Brazalian states over years 2008-2019.png\")"
   ]
  },
  {
   "cell_type": "markdown",
   "id": "impressive-eating",
   "metadata": {},
   "source": [
    "#### Figure 3. Choropleth map"
   ]
  },
  {
   "cell_type": "code",
   "execution_count": null,
   "id": "geological-dispute",
   "metadata": {
    "scrolled": false
   },
   "outputs": [],
   "source": [
    "import plotly.express as px\n",
    "import plotly.express as px\n",
    "import geopandas as gpd\n",
    "import json\n",
    "with open('brazil_geo.json', 'r') as f:\n",
    "    state = json.load(f) "
   ]
  },
  {
   "cell_type": "code",
   "execution_count": null,
   "id": "applicable-florida",
   "metadata": {},
   "outputs": [],
   "source": [
    "Def_all_year_state = Def_all.groupby(['YEAR','STATE']).sum().reset_index('YEAR').reset_index('STATE')\n",
    "Def_all_year_state = Def_all_year_state[['STATE','YEAR','AREA_KM']]\n",
    "GeoDef_all_year_state = amazon_state.merge(Def_all_year_state,how='left')"
   ]
  },
  {
   "cell_type": "code",
   "execution_count": null,
   "id": "diverse-bernard",
   "metadata": {},
   "outputs": [],
   "source": [
    "fig = px.choropleth(\n",
    "    GeoDef_all_year_state,\n",
    "    geojson=state, locations='STATE',\n",
    "    color=\"AREA_KM\",      \n",
    "    hover_name='STATE',\n",
    "    animation_frame=\"YEAR\",\n",
    "    range_color=(0,5000),\n",
    "    labels={'AREA_KM':'Area of Deforestation(KM)'},\n",
    "    color_continuous_scale=\"Reds\",\n",
    "    )\n",
    "fig.update_layout(\n",
    "    title_text = 'Deforestation',\n",
    "    geo_scope='south america',\n",
    " )\n",
    "fig.show()"
   ]
  },
  {
   "cell_type": "markdown",
   "id": "worth-morning",
   "metadata": {},
   "source": [
    "<a id='maps'></a>\n",
    "## 4. Maps"
   ]
  },
  {
   "cell_type": "markdown",
   "id": "spiritual-greeting",
   "metadata": {},
   "source": [
    "#### Figre 4. Total Deforestation of Legal Amazon in Brazlian States over Years 2008-2019"
   ]
  },
  {
   "cell_type": "code",
   "execution_count": null,
   "id": "brown-democracy",
   "metadata": {
    "scrolled": true
   },
   "outputs": [],
   "source": [
    "f,a = plt.subplots(figsize=(15,15))\n",
    "amazon.plot(ax=a,facecolor = 'none', edgecolor = 'gray')\n",
    "Def_all.plot(color=\"red\",markersize=10,ax=a, legend=True)\n",
    "plt.savefig(\"Figre 4. Total Deforestation of Legal Amazon in Brazlian States over Years 2008-2019.png\")"
   ]
  },
  {
   "cell_type": "markdown",
   "id": "generic-statement",
   "metadata": {},
   "source": [
    "##  Then End"
   ]
  }
 ],
 "metadata": {
  "kernelspec": {
   "display_name": "Python 3",
   "language": "python",
   "name": "python3"
  },
  "language_info": {
   "codemirror_mode": {
    "name": "ipython",
    "version": 3
   },
   "file_extension": ".py",
   "mimetype": "text/x-python",
   "name": "python",
   "nbconvert_exporter": "python",
   "pygments_lexer": "ipython3",
   "version": "3.8.5"
  }
 },
 "nbformat": 4,
 "nbformat_minor": 5
}
